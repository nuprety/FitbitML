{
  "nbformat": 4,
  "nbformat_minor": 0,
  "metadata": {
    "colab": {
      "name": "ML Project.ipynb",
      "provenance": [],
      "authorship_tag": "ABX9TyOc4GZscigkp2LmZXomaKxs",
      "include_colab_link": true
    },
    "kernelspec": {
      "name": "python3",
      "display_name": "Python 3"
    },
    "language_info": {
      "name": "python"
    }
  },
  "cells": [
    {
      "cell_type": "markdown",
      "metadata": {
        "id": "view-in-github",
        "colab_type": "text"
      },
      "source": [
        "<a href=\"https://colab.research.google.com/github/nuprety/FitbitML/blob/main/ML_Project.ipynb\" target=\"_parent\"><img src=\"https://colab.research.google.com/assets/colab-badge.svg\" alt=\"Open In Colab\"/></a>"
      ]
    },
    {
      "cell_type": "markdown",
      "metadata": {
        "id": "vAtI98RGRcu6"
      },
      "source": [
        "\n",
        "## **Machine Learning Project:** *Using my friend's Fitbit sleep data to predict her sleep scores.*\n",
        "\n"
      ]
    },
    {
      "cell_type": "markdown",
      "metadata": {
        "id": "KDQNdJRUR8kp"
      },
      "source": [
        "The Fitbit app allows all the users to get/export lifetime data which contains information on you ever since you started wearing the watch. Exporting data from Fitbit gives a bunch of csv files and some .json files. The .json files provided by the app had the data I actually needed which are minutes asleep, minutes awake and time in bed. So I had to do some research into how I could convert these JSON files to a CSV.\n",
        "For this I used a bit of a python code which converted all the JSON files into a single csv *\"output\"* file. I renamed this file to **sleep_stats.csv**. Here is a snapshot of the code I used:\n"
      ]
    },
    {
      "cell_type": "markdown",
      "metadata": {
        "id": "fCZ8hc-Fq9Cc"
      },
      "source": [
        "![Screen Shot 2021-08-09 at 9.25.02 PM.png](data:image/png;base64,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)"
      ]
    },
    {
      "cell_type": "markdown",
      "metadata": {
        "id": "ljoufZrrrBRz"
      },
      "source": [
        "Now, I have two csv files:\n",
        "\n",
        "\n",
        "1.   sleep_stats.csv\n",
        "2.   sleep_score.csv\n",
        "\n",
        "\n"
      ]
    },
    {
      "cell_type": "markdown",
      "metadata": {
        "id": "2Cev7oKyr1Lf"
      },
      "source": [
        "## **Importing the data and libraries I shall be using**"
      ]
    },
    {
      "cell_type": "code",
      "metadata": {
        "id": "mVNk1fZwr-rR"
      },
      "source": [
        "# Importing the libraries\n",
        "import pandas as pd\n",
        "import matplotlib.pyplot as plt\n",
        "import numpy as np\n",
        "import seaborn as sns\n",
        "from sklearn.preprocessing import StandardScaler\n",
        "from sklearn.model_selection import train_test_split\n",
        "from sklearn.linear_model import LinearRegression\n",
        "from sklearn.linear_model import Lasso\n",
        "from sklearn.metrics import mean_squared_error\n",
        "from sklearn.metrics import mean_absolute_error"
      ],
      "execution_count": 95,
      "outputs": []
    },
    {
      "cell_type": "code",
      "metadata": {
        "colab": {
          "base_uri": "https://localhost:8080/",
          "height": 564
        },
        "id": "DxXQ90I3sP5F",
        "outputId": "36a08408-f6e2-404a-cde7-c4812b4ec67c"
      },
      "source": [
        "# Since I am using colab I have to load CSV files to colab. I did so using Github raw link.\n",
        "sleep_stats_url = 'https://raw.githubusercontent.com/nuprety/FitbitML/main/sleep_stats.csv'\n",
        "sleep_score_url = 'https://raw.githubusercontent.com/nuprety/FitbitML/main/sleep_score.csv'\n",
        "\n",
        "# Importing the Fitbit csv data\n",
        "sleep_stats_df = pd.read_csv(sleep_stats_url)\n",
        "sleep_scores_df = pd.read_csv(sleep_score_url)\n",
        "\n",
        "# Read the first few rows of sleep_stats DataFrame\n",
        "sleep_stats_df.head()"
      ],
      "execution_count": 96,
      "outputs": [
        {
          "output_type": "execute_result",
          "data": {
            "text/html": [
              "<div>\n",
              "<style scoped>\n",
              "    .dataframe tbody tr th:only-of-type {\n",
              "        vertical-align: middle;\n",
              "    }\n",
              "\n",
              "    .dataframe tbody tr th {\n",
              "        vertical-align: top;\n",
              "    }\n",
              "\n",
              "    .dataframe thead th {\n",
              "        text-align: right;\n",
              "    }\n",
              "</style>\n",
              "<table border=\"1\" class=\"dataframe\">\n",
              "  <thead>\n",
              "    <tr style=\"text-align: right;\">\n",
              "      <th></th>\n",
              "      <th>logId</th>\n",
              "      <th>dateOfSleep</th>\n",
              "      <th>startTime</th>\n",
              "      <th>endTime</th>\n",
              "      <th>duration</th>\n",
              "      <th>minutesToFallAsleep</th>\n",
              "      <th>minutesAsleep</th>\n",
              "      <th>minutesAwake</th>\n",
              "      <th>minutesAfterWakeup</th>\n",
              "      <th>timeInBed</th>\n",
              "      <th>efficiency</th>\n",
              "      <th>type</th>\n",
              "      <th>infoCode</th>\n",
              "      <th>levels</th>\n",
              "      <th>mainSleep</th>\n",
              "    </tr>\n",
              "  </thead>\n",
              "  <tbody>\n",
              "    <tr>\n",
              "      <th>0</th>\n",
              "      <td>20622301608</td>\n",
              "      <td>12/28/18</td>\n",
              "      <td>2018-12-28T01:08:00.000</td>\n",
              "      <td>2018-12-28T09:06:00.000</td>\n",
              "      <td>28680000</td>\n",
              "      <td>0</td>\n",
              "      <td>417</td>\n",
              "      <td>61</td>\n",
              "      <td>6</td>\n",
              "      <td>478</td>\n",
              "      <td>93</td>\n",
              "      <td>stages</td>\n",
              "      <td>0</td>\n",
              "      <td>{'summary': {'deep': {'count': 5, 'minutes': 1...</td>\n",
              "      <td>True</td>\n",
              "    </tr>\n",
              "    <tr>\n",
              "      <th>1</th>\n",
              "      <td>20607238930</td>\n",
              "      <td>12/27/18</td>\n",
              "      <td>2018-12-27T00:29:00.000</td>\n",
              "      <td>2018-12-27T11:16:30.000</td>\n",
              "      <td>38820000</td>\n",
              "      <td>0</td>\n",
              "      <td>554</td>\n",
              "      <td>93</td>\n",
              "      <td>0</td>\n",
              "      <td>647</td>\n",
              "      <td>84</td>\n",
              "      <td>stages</td>\n",
              "      <td>0</td>\n",
              "      <td>{'summary': {'deep': {'count': 7, 'minutes': 1...</td>\n",
              "      <td>True</td>\n",
              "    </tr>\n",
              "    <tr>\n",
              "      <th>2</th>\n",
              "      <td>20595037715</td>\n",
              "      <td>12/26/18</td>\n",
              "      <td>2018-12-25T22:36:00.000</td>\n",
              "      <td>2018-12-26T09:45:00.000</td>\n",
              "      <td>40140000</td>\n",
              "      <td>0</td>\n",
              "      <td>546</td>\n",
              "      <td>123</td>\n",
              "      <td>0</td>\n",
              "      <td>669</td>\n",
              "      <td>92</td>\n",
              "      <td>stages</td>\n",
              "      <td>0</td>\n",
              "      <td>{'summary': {'deep': {'count': 4, 'minutes': 7...</td>\n",
              "      <td>True</td>\n",
              "    </tr>\n",
              "    <tr>\n",
              "      <th>3</th>\n",
              "      <td>20585001204</td>\n",
              "      <td>12/25/18</td>\n",
              "      <td>2018-12-25T03:31:00.000</td>\n",
              "      <td>2018-12-25T10:47:30.000</td>\n",
              "      <td>26160000</td>\n",
              "      <td>0</td>\n",
              "      <td>370</td>\n",
              "      <td>66</td>\n",
              "      <td>0</td>\n",
              "      <td>436</td>\n",
              "      <td>91</td>\n",
              "      <td>stages</td>\n",
              "      <td>0</td>\n",
              "      <td>{'summary': {'deep': {'count': 4, 'minutes': 7...</td>\n",
              "      <td>True</td>\n",
              "    </tr>\n",
              "    <tr>\n",
              "      <th>4</th>\n",
              "      <td>20576792621</td>\n",
              "      <td>12/24/18</td>\n",
              "      <td>2018-12-24T02:34:30.000</td>\n",
              "      <td>2018-12-24T09:06:30.000</td>\n",
              "      <td>23520000</td>\n",
              "      <td>0</td>\n",
              "      <td>342</td>\n",
              "      <td>50</td>\n",
              "      <td>9</td>\n",
              "      <td>392</td>\n",
              "      <td>91</td>\n",
              "      <td>stages</td>\n",
              "      <td>0</td>\n",
              "      <td>{'summary': {'deep': {'count': 4, 'minutes': 5...</td>\n",
              "      <td>True</td>\n",
              "    </tr>\n",
              "  </tbody>\n",
              "</table>\n",
              "</div>"
            ],
            "text/plain": [
              "         logId  ... mainSleep\n",
              "0  20622301608  ...      True\n",
              "1  20607238930  ...      True\n",
              "2  20595037715  ...      True\n",
              "3  20585001204  ...      True\n",
              "4  20576792621  ...      True\n",
              "\n",
              "[5 rows x 15 columns]"
            ]
          },
          "metadata": {
            "tags": []
          },
          "execution_count": 96
        }
      ]
    },
    {
      "cell_type": "code",
      "metadata": {
        "colab": {
          "base_uri": "https://localhost:8080/",
          "height": 309
        },
        "id": "-_lq0Hyqua4n",
        "outputId": "84af120e-c970-462f-ac58-85ef6a5e7bec"
      },
      "source": [
        "# Read the first few rows of sleep_scores DataFrame\n",
        "sleep_scores_df.head()"
      ],
      "execution_count": 97,
      "outputs": [
        {
          "output_type": "execute_result",
          "data": {
            "text/html": [
              "<div>\n",
              "<style scoped>\n",
              "    .dataframe tbody tr th:only-of-type {\n",
              "        vertical-align: middle;\n",
              "    }\n",
              "\n",
              "    .dataframe tbody tr th {\n",
              "        vertical-align: top;\n",
              "    }\n",
              "\n",
              "    .dataframe thead th {\n",
              "        text-align: right;\n",
              "    }\n",
              "</style>\n",
              "<table border=\"1\" class=\"dataframe\">\n",
              "  <thead>\n",
              "    <tr style=\"text-align: right;\">\n",
              "      <th></th>\n",
              "      <th>sleep_log_entry_id</th>\n",
              "      <th>timestamp</th>\n",
              "      <th>overall_score</th>\n",
              "      <th>composition_score</th>\n",
              "      <th>revitalization_score</th>\n",
              "      <th>duration_score</th>\n",
              "      <th>deep_sleep_in_minutes</th>\n",
              "      <th>resting_heart_rate</th>\n",
              "      <th>restlessness</th>\n",
              "    </tr>\n",
              "  </thead>\n",
              "  <tbody>\n",
              "    <tr>\n",
              "      <th>0</th>\n",
              "      <td>33302791795</td>\n",
              "      <td>2021-08-09T08:00:30Z</td>\n",
              "      <td>37</td>\n",
              "      <td>18</td>\n",
              "      <td>15</td>\n",
              "      <td>4</td>\n",
              "      <td>38</td>\n",
              "      <td>78</td>\n",
              "      <td>0.234222</td>\n",
              "    </tr>\n",
              "    <tr>\n",
              "      <th>1</th>\n",
              "      <td>33292303575</td>\n",
              "      <td>2021-08-08T13:53:30Z</td>\n",
              "      <td>59</td>\n",
              "      <td>18</td>\n",
              "      <td>18</td>\n",
              "      <td>23</td>\n",
              "      <td>57</td>\n",
              "      <td>79</td>\n",
              "      <td>0.180915</td>\n",
              "    </tr>\n",
              "    <tr>\n",
              "      <th>2</th>\n",
              "      <td>33292303574</td>\n",
              "      <td>2021-08-07T11:44:30Z</td>\n",
              "      <td>88</td>\n",
              "      <td>22</td>\n",
              "      <td>21</td>\n",
              "      <td>45</td>\n",
              "      <td>104</td>\n",
              "      <td>79</td>\n",
              "      <td>0.129958</td>\n",
              "    </tr>\n",
              "    <tr>\n",
              "      <th>3</th>\n",
              "      <td>33263811332</td>\n",
              "      <td>2021-08-06T08:05:30Z</td>\n",
              "      <td>71</td>\n",
              "      <td>21</td>\n",
              "      <td>18</td>\n",
              "      <td>32</td>\n",
              "      <td>56</td>\n",
              "      <td>81</td>\n",
              "      <td>0.187275</td>\n",
              "    </tr>\n",
              "    <tr>\n",
              "      <th>4</th>\n",
              "      <td>33252169553</td>\n",
              "      <td>2021-08-05T07:34:00Z</td>\n",
              "      <td>76</td>\n",
              "      <td>21</td>\n",
              "      <td>18</td>\n",
              "      <td>37</td>\n",
              "      <td>78</td>\n",
              "      <td>78</td>\n",
              "      <td>0.124490</td>\n",
              "    </tr>\n",
              "  </tbody>\n",
              "</table>\n",
              "</div>"
            ],
            "text/plain": [
              "   sleep_log_entry_id             timestamp  ...  resting_heart_rate  restlessness\n",
              "0         33302791795  2021-08-09T08:00:30Z  ...                  78      0.234222\n",
              "1         33292303575  2021-08-08T13:53:30Z  ...                  79      0.180915\n",
              "2         33292303574  2021-08-07T11:44:30Z  ...                  79      0.129958\n",
              "3         33263811332  2021-08-06T08:05:30Z  ...                  81      0.187275\n",
              "4         33252169553  2021-08-05T07:34:00Z  ...                  78      0.124490\n",
              "\n",
              "[5 rows x 9 columns]"
            ]
          },
          "metadata": {
            "tags": []
          },
          "execution_count": 97
        }
      ]
    },
    {
      "cell_type": "code",
      "metadata": {
        "colab": {
          "base_uri": "https://localhost:8080/",
          "height": 204
        },
        "id": "28TFYvVKurua",
        "outputId": "c18fff82-77e4-46b9-fc95-30e407160a90"
      },
      "source": [
        "# Dropping unwanted Data from sleep_stats DataFrame\n",
        "sleep_stats_df = sleep_stats_df.drop(['dateOfSleep', 'startTime', 'endTime', 'minutesToFallAsleep', 'minutesAfterWakeup', 'type', 'infoCode', 'levels', 'mainSleep', 'efficiency'], axis =1)\n",
        "sleep_stats_df.head()"
      ],
      "execution_count": 98,
      "outputs": [
        {
          "output_type": "execute_result",
          "data": {
            "text/html": [
              "<div>\n",
              "<style scoped>\n",
              "    .dataframe tbody tr th:only-of-type {\n",
              "        vertical-align: middle;\n",
              "    }\n",
              "\n",
              "    .dataframe tbody tr th {\n",
              "        vertical-align: top;\n",
              "    }\n",
              "\n",
              "    .dataframe thead th {\n",
              "        text-align: right;\n",
              "    }\n",
              "</style>\n",
              "<table border=\"1\" class=\"dataframe\">\n",
              "  <thead>\n",
              "    <tr style=\"text-align: right;\">\n",
              "      <th></th>\n",
              "      <th>logId</th>\n",
              "      <th>duration</th>\n",
              "      <th>minutesAsleep</th>\n",
              "      <th>minutesAwake</th>\n",
              "      <th>timeInBed</th>\n",
              "    </tr>\n",
              "  </thead>\n",
              "  <tbody>\n",
              "    <tr>\n",
              "      <th>0</th>\n",
              "      <td>20622301608</td>\n",
              "      <td>28680000</td>\n",
              "      <td>417</td>\n",
              "      <td>61</td>\n",
              "      <td>478</td>\n",
              "    </tr>\n",
              "    <tr>\n",
              "      <th>1</th>\n",
              "      <td>20607238930</td>\n",
              "      <td>38820000</td>\n",
              "      <td>554</td>\n",
              "      <td>93</td>\n",
              "      <td>647</td>\n",
              "    </tr>\n",
              "    <tr>\n",
              "      <th>2</th>\n",
              "      <td>20595037715</td>\n",
              "      <td>40140000</td>\n",
              "      <td>546</td>\n",
              "      <td>123</td>\n",
              "      <td>669</td>\n",
              "    </tr>\n",
              "    <tr>\n",
              "      <th>3</th>\n",
              "      <td>20585001204</td>\n",
              "      <td>26160000</td>\n",
              "      <td>370</td>\n",
              "      <td>66</td>\n",
              "      <td>436</td>\n",
              "    </tr>\n",
              "    <tr>\n",
              "      <th>4</th>\n",
              "      <td>20576792621</td>\n",
              "      <td>23520000</td>\n",
              "      <td>342</td>\n",
              "      <td>50</td>\n",
              "      <td>392</td>\n",
              "    </tr>\n",
              "  </tbody>\n",
              "</table>\n",
              "</div>"
            ],
            "text/plain": [
              "         logId  duration  minutesAsleep  minutesAwake  timeInBed\n",
              "0  20622301608  28680000            417            61        478\n",
              "1  20607238930  38820000            554            93        647\n",
              "2  20595037715  40140000            546           123        669\n",
              "3  20585001204  26160000            370            66        436\n",
              "4  20576792621  23520000            342            50        392"
            ]
          },
          "metadata": {
            "tags": []
          },
          "execution_count": 98
        }
      ]
    },
    {
      "cell_type": "code",
      "metadata": {
        "colab": {
          "base_uri": "https://localhost:8080/",
          "height": 204
        },
        "id": "O34W6GsOv6xt",
        "outputId": "6d6eaef6-72d5-4334-a26c-7aa335139af5"
      },
      "source": [
        "# Dropping unwated Data from sleep_scores DataFrame\n",
        "sleep_scores_df = sleep_scores_df.drop(['timestamp'], axis = 1)\n",
        "sleep_scores_df.head()"
      ],
      "execution_count": 99,
      "outputs": [
        {
          "output_type": "execute_result",
          "data": {
            "text/html": [
              "<div>\n",
              "<style scoped>\n",
              "    .dataframe tbody tr th:only-of-type {\n",
              "        vertical-align: middle;\n",
              "    }\n",
              "\n",
              "    .dataframe tbody tr th {\n",
              "        vertical-align: top;\n",
              "    }\n",
              "\n",
              "    .dataframe thead th {\n",
              "        text-align: right;\n",
              "    }\n",
              "</style>\n",
              "<table border=\"1\" class=\"dataframe\">\n",
              "  <thead>\n",
              "    <tr style=\"text-align: right;\">\n",
              "      <th></th>\n",
              "      <th>sleep_log_entry_id</th>\n",
              "      <th>overall_score</th>\n",
              "      <th>composition_score</th>\n",
              "      <th>revitalization_score</th>\n",
              "      <th>duration_score</th>\n",
              "      <th>deep_sleep_in_minutes</th>\n",
              "      <th>resting_heart_rate</th>\n",
              "      <th>restlessness</th>\n",
              "    </tr>\n",
              "  </thead>\n",
              "  <tbody>\n",
              "    <tr>\n",
              "      <th>0</th>\n",
              "      <td>33302791795</td>\n",
              "      <td>37</td>\n",
              "      <td>18</td>\n",
              "      <td>15</td>\n",
              "      <td>4</td>\n",
              "      <td>38</td>\n",
              "      <td>78</td>\n",
              "      <td>0.234222</td>\n",
              "    </tr>\n",
              "    <tr>\n",
              "      <th>1</th>\n",
              "      <td>33292303575</td>\n",
              "      <td>59</td>\n",
              "      <td>18</td>\n",
              "      <td>18</td>\n",
              "      <td>23</td>\n",
              "      <td>57</td>\n",
              "      <td>79</td>\n",
              "      <td>0.180915</td>\n",
              "    </tr>\n",
              "    <tr>\n",
              "      <th>2</th>\n",
              "      <td>33292303574</td>\n",
              "      <td>88</td>\n",
              "      <td>22</td>\n",
              "      <td>21</td>\n",
              "      <td>45</td>\n",
              "      <td>104</td>\n",
              "      <td>79</td>\n",
              "      <td>0.129958</td>\n",
              "    </tr>\n",
              "    <tr>\n",
              "      <th>3</th>\n",
              "      <td>33263811332</td>\n",
              "      <td>71</td>\n",
              "      <td>21</td>\n",
              "      <td>18</td>\n",
              "      <td>32</td>\n",
              "      <td>56</td>\n",
              "      <td>81</td>\n",
              "      <td>0.187275</td>\n",
              "    </tr>\n",
              "    <tr>\n",
              "      <th>4</th>\n",
              "      <td>33252169553</td>\n",
              "      <td>76</td>\n",
              "      <td>21</td>\n",
              "      <td>18</td>\n",
              "      <td>37</td>\n",
              "      <td>78</td>\n",
              "      <td>78</td>\n",
              "      <td>0.124490</td>\n",
              "    </tr>\n",
              "  </tbody>\n",
              "</table>\n",
              "</div>"
            ],
            "text/plain": [
              "   sleep_log_entry_id  overall_score  ...  resting_heart_rate  restlessness\n",
              "0         33302791795             37  ...                  78      0.234222\n",
              "1         33292303575             59  ...                  79      0.180915\n",
              "2         33292303574             88  ...                  79      0.129958\n",
              "3         33263811332             71  ...                  81      0.187275\n",
              "4         33252169553             76  ...                  78      0.124490\n",
              "\n",
              "[5 rows x 8 columns]"
            ]
          },
          "metadata": {
            "tags": []
          },
          "execution_count": 99
        }
      ]
    },
    {
      "cell_type": "code",
      "metadata": {
        "colab": {
          "base_uri": "https://localhost:8080/",
          "height": 204
        },
        "id": "cHgH7GT6wNr2",
        "outputId": "cff9ce7e-fb9f-4fa9-9b24-59b89d0d538b"
      },
      "source": [
        "# renaming a column on a DF first to merge the two DFs\n",
        "sleep_scores_df = sleep_scores_df.rename(columns={'sleep_log_entry_id': 'logId'})\n",
        "sleep_scores_df.head()"
      ],
      "execution_count": 100,
      "outputs": [
        {
          "output_type": "execute_result",
          "data": {
            "text/html": [
              "<div>\n",
              "<style scoped>\n",
              "    .dataframe tbody tr th:only-of-type {\n",
              "        vertical-align: middle;\n",
              "    }\n",
              "\n",
              "    .dataframe tbody tr th {\n",
              "        vertical-align: top;\n",
              "    }\n",
              "\n",
              "    .dataframe thead th {\n",
              "        text-align: right;\n",
              "    }\n",
              "</style>\n",
              "<table border=\"1\" class=\"dataframe\">\n",
              "  <thead>\n",
              "    <tr style=\"text-align: right;\">\n",
              "      <th></th>\n",
              "      <th>logId</th>\n",
              "      <th>overall_score</th>\n",
              "      <th>composition_score</th>\n",
              "      <th>revitalization_score</th>\n",
              "      <th>duration_score</th>\n",
              "      <th>deep_sleep_in_minutes</th>\n",
              "      <th>resting_heart_rate</th>\n",
              "      <th>restlessness</th>\n",
              "    </tr>\n",
              "  </thead>\n",
              "  <tbody>\n",
              "    <tr>\n",
              "      <th>0</th>\n",
              "      <td>33302791795</td>\n",
              "      <td>37</td>\n",
              "      <td>18</td>\n",
              "      <td>15</td>\n",
              "      <td>4</td>\n",
              "      <td>38</td>\n",
              "      <td>78</td>\n",
              "      <td>0.234222</td>\n",
              "    </tr>\n",
              "    <tr>\n",
              "      <th>1</th>\n",
              "      <td>33292303575</td>\n",
              "      <td>59</td>\n",
              "      <td>18</td>\n",
              "      <td>18</td>\n",
              "      <td>23</td>\n",
              "      <td>57</td>\n",
              "      <td>79</td>\n",
              "      <td>0.180915</td>\n",
              "    </tr>\n",
              "    <tr>\n",
              "      <th>2</th>\n",
              "      <td>33292303574</td>\n",
              "      <td>88</td>\n",
              "      <td>22</td>\n",
              "      <td>21</td>\n",
              "      <td>45</td>\n",
              "      <td>104</td>\n",
              "      <td>79</td>\n",
              "      <td>0.129958</td>\n",
              "    </tr>\n",
              "    <tr>\n",
              "      <th>3</th>\n",
              "      <td>33263811332</td>\n",
              "      <td>71</td>\n",
              "      <td>21</td>\n",
              "      <td>18</td>\n",
              "      <td>32</td>\n",
              "      <td>56</td>\n",
              "      <td>81</td>\n",
              "      <td>0.187275</td>\n",
              "    </tr>\n",
              "    <tr>\n",
              "      <th>4</th>\n",
              "      <td>33252169553</td>\n",
              "      <td>76</td>\n",
              "      <td>21</td>\n",
              "      <td>18</td>\n",
              "      <td>37</td>\n",
              "      <td>78</td>\n",
              "      <td>78</td>\n",
              "      <td>0.124490</td>\n",
              "    </tr>\n",
              "  </tbody>\n",
              "</table>\n",
              "</div>"
            ],
            "text/plain": [
              "         logId  overall_score  ...  resting_heart_rate  restlessness\n",
              "0  33302791795             37  ...                  78      0.234222\n",
              "1  33292303575             59  ...                  79      0.180915\n",
              "2  33292303574             88  ...                  79      0.129958\n",
              "3  33263811332             71  ...                  81      0.187275\n",
              "4  33252169553             76  ...                  78      0.124490\n",
              "\n",
              "[5 rows x 8 columns]"
            ]
          },
          "metadata": {
            "tags": []
          },
          "execution_count": 100
        }
      ]
    },
    {
      "cell_type": "code",
      "metadata": {
        "colab": {
          "base_uri": "https://localhost:8080/",
          "height": 224
        },
        "id": "m39teqU_xqDc",
        "outputId": "367aa351-eb64-4666-dbe9-f5d0d1c8867d"
      },
      "source": [
        "# Inner merge on the two DFs\n",
        "final_df = sleep_stats_df.merge(sleep_scores_df, on = 'logId', how= 'inner')\n",
        "final_df.head()"
      ],
      "execution_count": 101,
      "outputs": [
        {
          "output_type": "execute_result",
          "data": {
            "text/html": [
              "<div>\n",
              "<style scoped>\n",
              "    .dataframe tbody tr th:only-of-type {\n",
              "        vertical-align: middle;\n",
              "    }\n",
              "\n",
              "    .dataframe tbody tr th {\n",
              "        vertical-align: top;\n",
              "    }\n",
              "\n",
              "    .dataframe thead th {\n",
              "        text-align: right;\n",
              "    }\n",
              "</style>\n",
              "<table border=\"1\" class=\"dataframe\">\n",
              "  <thead>\n",
              "    <tr style=\"text-align: right;\">\n",
              "      <th></th>\n",
              "      <th>logId</th>\n",
              "      <th>duration</th>\n",
              "      <th>minutesAsleep</th>\n",
              "      <th>minutesAwake</th>\n",
              "      <th>timeInBed</th>\n",
              "      <th>overall_score</th>\n",
              "      <th>composition_score</th>\n",
              "      <th>revitalization_score</th>\n",
              "      <th>duration_score</th>\n",
              "      <th>deep_sleep_in_minutes</th>\n",
              "      <th>resting_heart_rate</th>\n",
              "      <th>restlessness</th>\n",
              "    </tr>\n",
              "  </thead>\n",
              "  <tbody>\n",
              "    <tr>\n",
              "      <th>0</th>\n",
              "      <td>23566437526</td>\n",
              "      <td>32400000</td>\n",
              "      <td>455</td>\n",
              "      <td>85</td>\n",
              "      <td>540</td>\n",
              "      <td>78</td>\n",
              "      <td>21</td>\n",
              "      <td>18</td>\n",
              "      <td>39</td>\n",
              "      <td>70</td>\n",
              "      <td>76</td>\n",
              "      <td>0.134545</td>\n",
              "    </tr>\n",
              "    <tr>\n",
              "      <th>1</th>\n",
              "      <td>23998259476</td>\n",
              "      <td>32280000</td>\n",
              "      <td>454</td>\n",
              "      <td>84</td>\n",
              "      <td>538</td>\n",
              "      <td>77</td>\n",
              "      <td>22</td>\n",
              "      <td>16</td>\n",
              "      <td>39</td>\n",
              "      <td>86</td>\n",
              "      <td>79</td>\n",
              "      <td>0.157502</td>\n",
              "    </tr>\n",
              "    <tr>\n",
              "      <th>2</th>\n",
              "      <td>23998259476</td>\n",
              "      <td>32280000</td>\n",
              "      <td>454</td>\n",
              "      <td>84</td>\n",
              "      <td>538</td>\n",
              "      <td>77</td>\n",
              "      <td>22</td>\n",
              "      <td>16</td>\n",
              "      <td>39</td>\n",
              "      <td>86</td>\n",
              "      <td>79</td>\n",
              "      <td>0.157502</td>\n",
              "    </tr>\n",
              "    <tr>\n",
              "      <th>3</th>\n",
              "      <td>23986197478</td>\n",
              "      <td>29520000</td>\n",
              "      <td>436</td>\n",
              "      <td>56</td>\n",
              "      <td>492</td>\n",
              "      <td>83</td>\n",
              "      <td>21</td>\n",
              "      <td>21</td>\n",
              "      <td>41</td>\n",
              "      <td>64</td>\n",
              "      <td>81</td>\n",
              "      <td>0.138071</td>\n",
              "    </tr>\n",
              "    <tr>\n",
              "      <th>4</th>\n",
              "      <td>23974829064</td>\n",
              "      <td>29640000</td>\n",
              "      <td>439</td>\n",
              "      <td>55</td>\n",
              "      <td>494</td>\n",
              "      <td>84</td>\n",
              "      <td>23</td>\n",
              "      <td>20</td>\n",
              "      <td>41</td>\n",
              "      <td>107</td>\n",
              "      <td>82</td>\n",
              "      <td>0.148635</td>\n",
              "    </tr>\n",
              "  </tbody>\n",
              "</table>\n",
              "</div>"
            ],
            "text/plain": [
              "         logId  duration  ...  resting_heart_rate  restlessness\n",
              "0  23566437526  32400000  ...                  76      0.134545\n",
              "1  23998259476  32280000  ...                  79      0.157502\n",
              "2  23998259476  32280000  ...                  79      0.157502\n",
              "3  23986197478  29520000  ...                  81      0.138071\n",
              "4  23974829064  29640000  ...                  82      0.148635\n",
              "\n",
              "[5 rows x 12 columns]"
            ]
          },
          "metadata": {
            "tags": []
          },
          "execution_count": 101
        }
      ]
    },
    {
      "cell_type": "code",
      "metadata": {
        "colab": {
          "base_uri": "https://localhost:8080/"
        },
        "id": "r2yjQx611S_Q",
        "outputId": "aecc7346-cd28-4c31-89fe-a0d7de462731"
      },
      "source": [
        "# Inspecting the final DF to be used\n",
        "final_df.shape"
      ],
      "execution_count": 102,
      "outputs": [
        {
          "output_type": "execute_result",
          "data": {
            "text/plain": [
              "(714, 12)"
            ]
          },
          "metadata": {
            "tags": []
          },
          "execution_count": 102
        }
      ]
    },
    {
      "cell_type": "code",
      "metadata": {
        "colab": {
          "base_uri": "https://localhost:8080/"
        },
        "id": "YE-nX4fp1XYA",
        "outputId": "8c76d8a0-7f32-43b1-a12a-a621db4f3b7c"
      },
      "source": [
        "# Inspecting DF\n",
        "final_df.info()"
      ],
      "execution_count": 103,
      "outputs": [
        {
          "output_type": "stream",
          "text": [
            "<class 'pandas.core.frame.DataFrame'>\n",
            "Int64Index: 714 entries, 0 to 713\n",
            "Data columns (total 12 columns):\n",
            " #   Column                 Non-Null Count  Dtype  \n",
            "---  ------                 --------------  -----  \n",
            " 0   logId                  714 non-null    int64  \n",
            " 1   duration               714 non-null    int64  \n",
            " 2   minutesAsleep          714 non-null    int64  \n",
            " 3   minutesAwake           714 non-null    int64  \n",
            " 4   timeInBed              714 non-null    int64  \n",
            " 5   overall_score          714 non-null    int64  \n",
            " 6   composition_score      714 non-null    int64  \n",
            " 7   revitalization_score   714 non-null    int64  \n",
            " 8   duration_score         714 non-null    int64  \n",
            " 9   deep_sleep_in_minutes  714 non-null    int64  \n",
            " 10  resting_heart_rate     714 non-null    int64  \n",
            " 11  restlessness           714 non-null    float64\n",
            "dtypes: float64(1), int64(11)\n",
            "memory usage: 72.5 KB\n"
          ],
          "name": "stdout"
        }
      ]
    },
    {
      "cell_type": "markdown",
      "metadata": {
        "id": "_qlK1y_M3CPg"
      },
      "source": [
        "# **Visualizing the Data**"
      ]
    },
    {
      "cell_type": "code",
      "metadata": {
        "colab": {
          "base_uri": "https://localhost:8080/",
          "height": 388
        },
        "id": "odJMom9b3qvO",
        "outputId": "fccee477-2aac-4c0c-b966-79e788deda57"
      },
      "source": [
        "# Scatterplot on the Data\n",
        "plt.figure(figsize=(8,6))\n",
        "plt.scatter(x=final_df['minutesAsleep'],y=final_df['overall_score'])\n",
        "plt.xlabel('Minutes Asleep')\n",
        "plt.ylabel('Overall Sleep Score')\n",
        "plt.show()"
      ],
      "execution_count": 104,
      "outputs": [
        {
          "output_type": "display_data",
          "data": {
            "image/png": "[encoded data removed]",
            "text/plain": [
              "<Figure size 576x432 with 1 Axes>"
            ]
          },
          "metadata": {
            "tags": [],
            "needs_background": "light"
          }
        }
      ]
    },
    {
      "cell_type": "code",
      "metadata": {
        "colab": {
          "base_uri": "https://localhost:8080/",
          "height": 388
        },
        "id": "VSkUsIfX6FUz",
        "outputId": "a2ff543e-7c43-40c6-ca0a-e1b78239baa6"
      },
      "source": [
        "plt.figure(figsize=(8,6))\n",
        "plt.scatter(x=final_df['timeInBed'],y=final_df['overall_score'])\n",
        "plt.xlabel('Time in Bed')\n",
        "plt.ylabel('Overall Sleep Score')\n",
        "plt.show()"
      ],
      "execution_count": 105,
      "outputs": [
        {
          "output_type": "display_data",
          "data": {
            "image/png": "[encoded data removed]",
            "text/plain": [
              "<Figure size 576x432 with 1 Axes>"
            ]
          },
          "metadata": {
            "tags": [],
            "needs_background": "light"
          }
        }
      ]
    },
    {
      "cell_type": "markdown",
      "metadata": {
        "id": "Y9rYL82i6sAE"
      },
      "source": [
        "We can see that the Time in Bed and Minutes Asleep have some form of strong positive relationship. This makes sense because the more you spend time in bed and the more you sleep, the better your sleep score is. "
      ]
    },
    {
      "cell_type": "code",
      "metadata": {
        "colab": {
          "base_uri": "https://localhost:8080/",
          "height": 388
        },
        "id": "bATiidxT-nTw",
        "outputId": "bb938939-df07-4b69-8197-ae75b01da14f"
      },
      "source": [
        "plt.figure(figsize=(8,6))\n",
        "plt.scatter(x=final_df['restlessness'],y=final_df['overall_score'])\n",
        "plt.xlabel('Restlessness')\n",
        "plt.ylabel('Overall Sleep Score')\n",
        "plt.show()"
      ],
      "execution_count": 106,
      "outputs": [
        {
          "output_type": "display_data",
          "data": {
            "image/png": "[encoded data removed]",
            "text/plain": [
              "<Figure size 576x432 with 1 Axes>"
            ]
          },
          "metadata": {
            "tags": [],
            "needs_background": "light"
          }
        }
      ]
    },
    {
      "cell_type": "code",
      "metadata": {
        "colab": {
          "base_uri": "https://localhost:8080/",
          "height": 501
        },
        "id": "DU8XqAy31bv7",
        "outputId": "c0b7773e-c92c-44c8-cfe5-0f73c4c16fb9"
      },
      "source": [
        "# Inspecting the correlations between the data\n",
        "plt.figure(figsize=(10, 6))\n",
        "sns.heatmap(final_df.corr(), annot=True, cmap='coolwarm', fmt='.2g')"
      ],
      "execution_count": 107,
      "outputs": [
        {
          "output_type": "execute_result",
          "data": {
            "text/plain": [
              "<matplotlib.axes._subplots.AxesSubplot at 0x7f7bffd1a650>"
            ]
          },
          "metadata": {
            "tags": []
          },
          "execution_count": 107
        },
        {
          "output_type": "display_data",
          "data": {
            "image/png": "[encoded data removed]",
            "text/plain": [
              "<Figure size 720x432 with 2 Axes>"
            ]
          },
          "metadata": {
            "tags": [],
            "needs_background": "light"
          }
        }
      ]
    },
    {
      "cell_type": "markdown",
      "metadata": {
        "id": "KmJ-Jnvk7Fx9"
      },
      "source": [
        "This correlation map also shows strong positive correlation between **Overall Score** and *Minutes Asleep* & *Time in Bed* i.e 0.71 and 0.63 respectively. However, you see some level of negative correlation between Overall Score and Minutes Awake which makes sense because the more awake you are during the sleep, your sleep score is lesser. This is the same with Resting Heart Rate. \n",
        "You can really see how Restlessness is negatively correlated to Overall Score. The more restless you get during the night, the lesser the sleep you get which results in lower score."
      ]
    },
    {
      "cell_type": "markdown",
      "metadata": {
        "id": "hpdDOMmY7ro8"
      },
      "source": [
        "# **Preparing Data for Training and Testing**"
      ]
    },
    {
      "cell_type": "code",
      "metadata": {
        "id": "olmleApg7-_t"
      },
      "source": [
        "X = final_df [['duration', 'minutesAsleep', 'minutesAwake', 'timeInBed', 'deep_sleep_in_minutes', 'resting_heart_rate', 'restlessness']]\n",
        "y = final_df['overall_score']\n",
        "\n",
        "X_train, X_test, y_train, y_test = train_test_split(X, y, random_state = 0, test_size= 0.2)"
      ],
      "execution_count": 108,
      "outputs": []
    },
    {
      "cell_type": "markdown",
      "metadata": {
        "id": "DSvaKdph_n-B"
      },
      "source": [
        "Training the Model:"
      ]
    },
    {
      "cell_type": "code",
      "metadata": {
        "colab": {
          "base_uri": "https://localhost:8080/"
        },
        "id": "bUcp4SaN_qp-",
        "outputId": "e852d8d5-afc9-42e3-8741-7a95e15ea774"
      },
      "source": [
        "model = LinearRegression()\n",
        "model.fit(X_train, y_train)\n",
        "#print(y_test)\n",
        "preds = np.rint(model.predict(X_test)).astype(int)\n",
        "print(preds)\n",
        "print(y_test)\n",
        "mse_preds = float(1/len(y_test)*np.sum((preds-y_test)**2))\n",
        "print(mse_preds)\n",
        "acc = np.sum(preds==y_test)/len(y_test)\n",
        "\n",
        "print('Accuracy of model on the test set is {:.1%}'.format(acc))\n"
      ],
      "execution_count": 110,
      "outputs": [
        {
          "output_type": "stream",
          "text": [
            "[79 75 71 78 92 71 83 76 74 78 88 77 76 78 80 84 78 84 78 89 80 86 80 75\n",
            " 83 70 74 98 82 71 80 79 76 76 84 84 77 77 80 75 84 78 81 77 76 75 87 76\n",
            " 70 78 77 82 78 85 65 82 76 82 73 75 87 76 88 75 71 78 83 79 94 78 80 77\n",
            " 77 77 76 76 80 88 66 86 85 83 79 83 77 66 71 61 78 63 77 75 76 79 70 88\n",
            " 81 82 67 74 57 77 76 77 82 81 90 74 73 87 81 82 79 73 82 87 88 72 71 69\n",
            " 80 89 76 88 78 81 74 80 64 77 92 69 76 84 84 84 81 77 85 77 81 75 74]\n",
            "339    80\n",
            "142    72\n",
            "243    73\n",
            "236    78\n",
            "712    83\n",
            "       ..\n",
            "245    86\n",
            "303    77\n",
            "97     83\n",
            "375    78\n",
            "484    75\n",
            "Name: overall_score, Length: 143, dtype: int64\n",
            "12.328671328671328\n",
            "Accuracy of model on the test set is 18.9%\n"
          ],
          "name": "stdout"
        }
      ]
    },
    {
      "cell_type": "markdown",
      "metadata": {
        "id": "SJK4ChvcCc-U"
      },
      "source": [
        "VERY LOW ACCURACY which maybe because of how Fitbit actually calculates Sleep Scores."
      ]
    }
  ]
}